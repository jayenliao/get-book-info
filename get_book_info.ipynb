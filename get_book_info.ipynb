{
 "cells": [
  {
   "cell_type": "markdown",
   "metadata": {},
   "source": [
    "# Booklist Construction\n",
    "### Author: Jay Liao\n",
    "### Date: 22 Oct 2019\n",
    "This is a program with python code for getting basic info of a book. Given the ISBN of a book, the program would get basic info of the book from TAZZE.com."
   ]
  },
  {
   "cell_type": "markdown",
   "metadata": {},
   "source": [
    "## Obtain the info for one single book"
   ]
  },
  {
   "cell_type": "markdown",
   "metadata": {},
   "source": [
    "### Import the packages"
   ]
  },
  {
   "cell_type": "code",
   "execution_count": 1,
   "metadata": {},
   "outputs": [],
   "source": [
    "import re\n",
    "import time\n",
    "import requests\n",
    "import pandas as pd\n",
    "from bs4 import BeautifulSoup as bs"
   ]
  },
  {
   "cell_type": "markdown",
   "metadata": {},
   "source": [
    "### Request to visit the seaching page of the given ISBN on TAZZE.com"
   ]
  },
  {
   "cell_type": "code",
   "execution_count": 4,
   "metadata": {},
   "outputs": [],
   "source": [
    "ISBN = 9789863616467"
   ]
  },
  {
   "cell_type": "code",
   "execution_count": 5,
   "metadata": {},
   "outputs": [],
   "source": [
    "url_root = 'https://www.taaze.tw/rwd_searchResult.html?keyType%5B%5D=0&keyword%5B%5D='\n",
    "r = requests.get(url_root + str(ISBN))\n",
    "soup = bs(r.text, 'html.parser')"
   ]
  },
  {
   "cell_type": "code",
   "execution_count": 6,
   "metadata": {},
   "outputs": [],
   "source": [
    "url_root = 'https://search.books.com.tw/search/query/key/'\n",
    "r = requests.get(url_root + str(ISBN) + '/cat/all')\n",
    "soup = bs(r.text, 'html.parser')"
   ]
  },
  {
   "cell_type": "code",
   "execution_count": 14,
   "metadata": {},
   "outputs": [
    {
     "name": "stdout",
     "output_type": "stream",
     "text": [
      "None\n",
      "/rwd_index.html\n",
      "學堂\n",
      "https://www.taaze.tw/static_act/lecture/2015/index.htm\n",
      "冊格子\n",
      "/zekea_about.html\n",
      "登入\n",
      "#\n",
      "None\n",
      "/rwd_register.html\n",
      "會員中心\n",
      "/custManageIndex.html?tFlg=D\n",
      "None\n",
      "/cart.html\n",
      "書籍\n",
      "#\n",
      "中文書\n",
      "/rwd_list.html?t=11&k=01&d=00\n",
      "雜誌\n",
      "#\n",
      "中文雜誌\n",
      "/rwd_list.html?t=21&k=01&d=00\n",
      "日文MOOK\n",
      "/rwd_list.html?t=24&k=01&d=00\n",
      "歐美雜誌\n",
      "/rwd_list.html?t=23&k=01&d=00\n",
      "韓文雜誌\n",
      "/rwd_list.html?t=22&k=01&d=00\n",
      "電子書\n",
      "#\n",
      "中文電子書\n",
      "/rwd_list.html?t=14&k=01&d=00\n",
      "中文電子雜誌\n",
      "/rwd_list.html?t=25&k=01&d=00\n",
      "二手書\n",
      "#\n",
      "二手中文書\n",
      "/rwd_list.html?t=11&k=03&d=00\n",
      "二手簡體書\n",
      "/rwd_list.html?t=11&k=03&d=12\n",
      "二手原文書\n",
      "/rwd_list.html?t=11&k=03&d=13\n",
      "二手日文MOOK\n",
      "/rwd_list.html?t=11&k=03&d=24\n",
      "唱片影音\n",
      "#\n",
      "影音DVD\n",
      "/rwd_list.html?t=32&k=01&d=00\n",
      "唱片CD\n",
      "/rwd_list.html?t=31&k=01&d=00\n",
      "文具雜貨\n",
      "#\n",
      "創意文具\n",
      "/rwd_list.html?t=61&k=01&d=00\n",
      "生活雜貨\n",
      "/rwd_list.html?t=62&k=01&d=00\n",
      "我要賣二手書\n",
      "/sell_used_books.html\n",
      "品油鑑賞課\n",
      "http://www.taaze.tw/static_act/201908/oil/index.htm\n",
      "解憂電影院（簽名版）\n",
      "https://www.taaze.tw/goods/11100890305.html\n",
      "異同閱讀《LEZS》\n",
      "http://activity.taaze.tw/home.html?m=1000611135\n",
      "幸佳慧\n",
      "http://activity.taaze.tw/home.html?m=1000612535\n",
      "寄書抽Sony降噪耳機\n",
      "http://activity.taaze.tw/activity_y.html?masNo=1000610755&tmpName=imgUntil\n",
      "None\n",
      "http://www.taaze.tw/static_act/201910/Doomsday/index.htm\n",
      "TAAZE讀冊生活\n",
      "/rwd_index.html\n",
      "None\n",
      "/custManageIndex.html?tFlg=D\n",
      "品油鑑賞課\n",
      "http://www.taaze.tw/static_act/201908/oil/index.htm\n",
      "解憂電影院（簽名版）\n",
      "https://www.taaze.tw/goods/11100890305.html\n",
      "異同閱讀《LEZS》\n",
      "http://activity.taaze.tw/home.html?m=1000611135\n",
      "幸佳慧\n",
      "http://activity.taaze.tw/home.html?m=1000612535\n",
      "寄書抽Sony降噪耳機\n",
      "http://activity.taaze.tw/activity_y.html?masNo=1000610755&tmpName=imgUntil\n",
      "首頁\n",
      "/rwd_index.html\n",
      "登入\n",
      "#\n",
      "None\n",
      "/rwd_register.html\n",
      "暫存清單\n",
      "/listCartWatch.html\n",
      "書籍\n",
      "#ulBooks\n",
      "中文書\n",
      "/rwd_list.html?t=11&k=01&d=00\n",
      "雜誌\n",
      "#ulMagz\n",
      "中文雜誌\n",
      "/rwd_list.html?t=21&k=01&d=00\n",
      "日文MOOK\n",
      "/rwd_list.html?t=24&k=01&d=00\n",
      "歐美雜誌\n",
      "/rwd_list.html?t=23&k=01&d=00\n",
      "韓文雜誌\n",
      "/rwd_list.html?t=22&k=01&d=00\n",
      "電子書\n",
      "#ulEbooks\n",
      "中文電子書\n",
      "/rwd_list.html?t=14&k=01&d=00\n",
      "中文電子雜誌\n",
      "/rwd_list.html?t=25&k=01&d=00\n",
      "二手書\n",
      "#ulUsedBooks\n",
      "二手中文書\n",
      "/rwd_list.html?t=11&k=03&d=00\n",
      "二手簡體書\n",
      "/rwd_list.html?t=11&k=03&d=12\n",
      "二手原文書\n",
      "/rwd_list.html?t=11&k=03&d=13\n",
      "二手日文MOOK\n",
      "/rwd_list.html?t=11&k=03&d=24\n",
      "唱片影音\n",
      "#ulDVDCD\n",
      "影音DVD\n",
      "/rwd_list.html?t=32&k=01&d=00\n",
      "唱片CD\n",
      "/rwd_list.html?t=31&k=01&d=00\n",
      "文具雜貨\n",
      "#ulItems\n",
      "創意文具\n",
      "/rwd_list.html?t=61&k=01&d=00\n",
      "生活雜貨\n",
      "/rwd_list.html?t=62&k=01&d=00\n",
      "我要賣二手書\n",
      "/sell_used_books.html\n",
      "學堂\n",
      "https://www.taaze.tw/static_act/lecture/2015/index.htm\n",
      "冊格子\n",
      "/zekea_about.html\n",
      "會員中心\n",
      "/custManageIndex.html?tFlg=D\n",
      "None\n",
      "#mlistProdCat\n",
      "None\n",
      "/rwd_searchResult.html?keyType%5B%5D=0&keyword%5B%5D=9789863616467&prodKind=0&prodCatId=0&catId=0&saleDiscStart=0&saleDiscEnd=0&salePriceStart=&salePriceEnd=&publishDateStart=&publishDateEnd=&prodRank=&addMarkFlg=&force=0&layout=A&nowPage=1&sort=\n",
      "None\n",
      "/rwd_searchResult.html?keyType%5B%5D=0&keyword%5B%5D=9789863616467&prodKind=0&prodCatId=0&catId=0&saleDiscStart=0&saleDiscEnd=0&salePriceStart=&salePriceEnd=&publishDateStart=&publishDateEnd=&prodRank=&addMarkFlg=&force=0&catFocus=11&orgFocus=A&layout=A&nowPage=1&sort=\n",
      "None\n",
      "/rwd_searchResult.html?keyType%5B%5D=0&keyword%5B%5D=9789863616467&prodKind=0&prodCatId=0&catId=0&saleDiscStart=0&saleDiscEnd=0&salePriceStart=&salePriceEnd=&publishDateStart=&publishDateEnd=&prodRank=&addMarkFlg=&force=0&catFocus=11&orgFocus=C&layout=A&nowPage=1&sort=\n",
      "None\n",
      "/rwd_searchResult.html?keyType%5B%5D=0&keyword%5B%5D=9789863616467&prodKind=0&prodCatId=0&catId=0&saleDiscStart=0&saleDiscEnd=0&salePriceStart=&salePriceEnd=&publishDateStart=&publishDateEnd=&prodRank=&addMarkFlg=&force=0&catFocus=14&orgFocus=A&layout=A&nowPage=1&sort=\n",
      "None\n",
      "https://biggo.com.tw\n",
      "精準度排序\n",
      "#\n",
      "暢銷度排序\n",
      "#\n",
      "出版日期排序\n",
      "#\n",
      "價格排序\n",
      "#\n",
      "None\n",
      "/rwd_searchResult.html?keyType%5B%5D=0&keyword%5B%5D=9789863616467&prodKind=0&prodCatId=0&catId=0&saleDiscStart=0&saleDiscEnd=0&salePriceStart=&salePriceEnd=&publishDateStart=&publishDateEnd=&prodRank=&addMarkFlg=&force=0&layout=A&nowPage=1&sort=\n",
      "None\n",
      "/rwd_searchResult.html?keyType%5B%5D=0&keyword%5B%5D=9789863616467&prodKind=0&prodCatId=0&catId=0&saleDiscStart=0&saleDiscEnd=0&salePriceStart=&salePriceEnd=&publishDateStart=&publishDateEnd=&prodRank=&addMarkFlg=&force=0&catFocus=11&orgFocus=A&layout=A&nowPage=1&sort=\n",
      "None\n",
      "/rwd_searchResult.html?keyType%5B%5D=0&keyword%5B%5D=9789863616467&prodKind=0&prodCatId=0&catId=0&saleDiscStart=0&saleDiscEnd=0&salePriceStart=&salePriceEnd=&publishDateStart=&publishDateEnd=&prodRank=&addMarkFlg=&force=0&catFocus=11&orgFocus=C&layout=A&nowPage=1&sort=\n",
      "None\n",
      "/rwd_searchResult.html?keyType%5B%5D=0&keyword%5B%5D=9789863616467&prodKind=0&prodCatId=0&catId=0&saleDiscStart=0&saleDiscEnd=0&salePriceStart=&salePriceEnd=&publishDateStart=&publishDateEnd=&prodRank=&addMarkFlg=&force=0&catFocus=14&orgFocus=A&layout=A&nowPage=1&sort=\n",
      "編輯\n",
      "None\n",
      "None\n",
      "https://biggo.com.tw\n",
      "精準度排序\n",
      "#\n",
      "暢銷度排序\n",
      "#\n",
      "出版日期排序\n",
      "#\n",
      "價格排序\n",
      "#\n",
      "與焦慮和解：克服過度完美主義、拖延症、害怕批評，從自我檢測中找回生活平衡的實用指南\n",
      "https://searchapi.biggo.com/taaze/r/?i=11100868875&purl=https://www.taaze.tw/goods/11100868875.html&q=9789863616467\n",
      "與焦慮和解：克服過度完美主義、拖延症、害怕批評，從自我檢測中找回生活平衡的實用指南 (二手書)\n",
      "https://searchapi.biggo.com/taaze/r/?i=11309045378&purl=https://www.taaze.tw/usedList.html?oid=11100868875&q=9789863616467\n",
      "與焦慮和解：克服過度完美主義、拖延症、害怕批評，從自我檢測中找回生活平衡的實用指南 (電子書epub版)\n",
      "https://searchapi.biggo.com/taaze/r/?i=14100042099&purl=https://www.taaze.tw/goods/14100042099.html&q=9789863616467\n",
      "我不滿意搜尋結果的商品順序\n",
      "#\n",
      "我查不到想要的商品\n",
      "#\n",
      "是否能新增功能？\n",
      "#\n",
      "好像故障了？\n",
      "#\n",
      "其他建議\n",
      "#\n",
      "None\n",
      "/gift_index.html?pct=11&cp=1&ps=30&ct=010000000000&cl=1\n",
      "None\n",
      "#bestSell\n",
      "None\n",
      "#bestSell\n",
      "None\n",
      "/gift_index.html?pct=11&cp=1&ps=30&ct=010000000000&cl=1\n",
      "None\n",
      "#bestSellm\n",
      "None\n",
      "#bestSellm\n",
      "None\n",
      "#mlistProdCat\n",
      "None\n",
      "/rwd_searchResult.html?keyType%5B%5D=0&keyword%5B%5D=9789863616467&prodKind=0&prodCatId=0&catId=0&saleDiscStart=0&saleDiscEnd=0&salePriceStart=&salePriceEnd=&publishDateStart=&publishDateEnd=&prodRank=&addMarkFlg=&force=0&layout=A&nowPage=1&sort=\n",
      "None\n",
      "?keyType%5B%5D=0&keyword%5B%5D=9789863616467&prodKind=0&prodCatId=0&catId=0&saleDiscStart=0&saleDiscEnd=0&salePriceStart=&salePriceEnd=&publishDateStart=&publishDateEnd=&prodRank=&addMarkFlg=&force=0&catFocus=11&orgFocus=A&layout=A&nowPage=1&sort=\n",
      "None\n",
      "?keyType%5B%5D=0&keyword%5B%5D=9789863616467&prodKind=0&prodCatId=0&catId=0&saleDiscStart=0&saleDiscEnd=0&salePriceStart=&salePriceEnd=&publishDateStart=&publishDateEnd=&prodRank=&addMarkFlg=&force=0&catFocus=11&orgFocus=C&layout=A&nowPage=1&sort=\n",
      "None\n",
      "?keyType%5B%5D=0&keyword%5B%5D=9789863616467&prodKind=0&prodCatId=0&catId=0&saleDiscStart=0&saleDiscEnd=0&salePriceStart=&salePriceEnd=&publishDateStart=&publishDateEnd=&prodRank=&addMarkFlg=&force=0&catFocus=14&orgFocus=A&layout=A&nowPage=1&sort=\n",
      "None\n",
      "https://biggo.com.tw\n",
      "精準度排序\n",
      "#\n",
      "暢銷度排序\n",
      "#\n",
      "出版日期排序\n",
      "#\n",
      "價格排序\n",
      "#\n",
      "None\n",
      "https://www.taaze.tw/gov_index.html\n",
      "None\n",
      "https://www.taaze.tw/gift_index.html?pct=11&cp=1&ps=30&ct=010000000000&cl=1\n",
      "None\n",
      "https://www.taaze.tw/static_act/201603/seller_smile/index.htm\n",
      "關於我們\n",
      "https://www.taaze.tw/static_act/about/index.htm\n",
      "第一次購物\n",
      "https://www.taaze.tw/static_act/starthere/index.htm\n",
      "第一次賣二手書\n",
      "https://www.taaze.tw/sell_used_books.html\n",
      "現金回饋\n",
      "https://www.taaze.tw/static_act/201012/1201ecoupon/index.htm\n",
      "加入會員\n",
      "https://www.taaze.tw/join_taaze.html\n",
      "偏鄉孩童閱讀專戶\n",
      "https://www.taaze.tw/children_index.html\n",
      "圖書館借閱查詢\n",
      "https://www.taaze.tw/static_act/librarysearch/index.htm\n",
      "工作機會\n",
      "https://www.taaze.tw/static_act/jobs/index.htm\n",
      "加入書籍供應商\n",
      "https://www.taaze.tw/static_act/partner/index.htm\n",
      "加入電子書供應商\n",
      "https://www.taaze.tw/static_act/ebook/index.htm\n",
      "加入創意生活供應商\n",
      "https://www.taaze.tw/static_act/zakka/index.htm\n",
      "行銷分紅夥伴計畫\n",
      "https://www.taaze.tw/affiliateprogram/index.jsp\n",
      "異業合作\n",
      "https://www.taaze.tw/static_act/cooperation/index.htm\n",
      "廣告合作\n",
      "https://www.taaze.tw/static_act/201404/taaze_ads/index.htm\n",
      "加入二手書義賣受捐單位\n",
      "https://www.taaze.tw/snd161124_index.html\n",
      "訂購、訂單查詢\n",
      "/qa/view/b.html\n",
      "取貨方式\n",
      "/qa/view/c.html\n",
      "付款方式與運費\n",
      "/qa/view/c.html#a2\n",
      "退換貨\n",
      "/qa/view/g.html\n",
      "常見Q&A\n",
      "/rwd_qa.html\n",
      "客服信箱\n",
      "/rwd_inquiry.html\n",
      "None\n",
      "http://www.facebook.com/TAAZE\n",
      "None\n",
      "https://www.instagram.com/taaze.tw/\n",
      "None\n",
      "http://ebook.taaze.tw/do/rssfeed/rssindex.aspx\n",
      "學思行數位行銷股份有限公司\n",
      "https://www.taaze.tw\n",
      "會員服務使用條款\n",
      "https://www.taaze.tw/static_act/member/index.htm\n",
      "隱私權政策\n",
      "https://www.taaze.tw/static_act/privacynotice/index.htm\n",
      "電腦版\n",
      "/rwd_setcookie.html\n",
      "手機版\n",
      "/rwd_cleancookie.html\n",
      "\n",
      "Time cost:   0.012251 s\n"
     ]
    }
   ],
   "source": [
    "tStart = time.time()\n",
    "lst_tags_str = []\n",
    "lst_tags_url = []\n",
    "a_tags = soup.find_all('a')\n",
    "\n",
    "for tag in a_tags:\n",
    "    print(tag.string)\n",
    "    print(tag.get('href'))\n",
    "    lst_tags_str.append(tag.string)\n",
    "    lst_tags_url.append(tag.get('href'))\n",
    "#target_srt = lst_tags_str[lst_tags_str.index('我不滿意搜尋結果的商品順序')-1]\n",
    "#target_url = lst_tags_url[lst_tags_str.index('我不滿意搜尋結果的商品順序')-1]\n",
    "#print(target_srt)\n",
    "#print(target_url)\n",
    "\n",
    "print('\\nTime cost: %10.6f s' % (time.time() - tStart))"
   ]
  },
  {
   "cell_type": "markdown",
   "metadata": {},
   "source": [
    "### Find the goods page url of the given book"
   ]
  },
  {
   "cell_type": "code",
   "execution_count": 15,
   "metadata": {},
   "outputs": [
    {
     "name": "stdout",
     "output_type": "stream",
     "text": [
      "與焦慮和解：克服過度完美主義、拖延症、害怕批評，從自我檢測中找回生活平衡的實用指南 (電子書epub版)\n",
      "https://searchapi.biggo.com/taaze/r/?i=14100042099&purl=https://www.taaze.tw/goods/14100042099.html&q=9789863616467\n",
      "\n",
      "Time cost:   0.002047 s\n"
     ]
    }
   ],
   "source": [
    "tStart = time.time()\n",
    "lst_tags_str = []\n",
    "lst_tags_url = []\n",
    "a_tags = soup.find_all('a')\n",
    "\n",
    "for tag in a_tags:\n",
    "    lst_tags_str.append(tag.string)\n",
    "    lst_tags_url.append(tag.get('href'))\n",
    "target_srt = lst_tags_str[lst_tags_str.index('我不滿意搜尋結果的商品順序')-1]\n",
    "target_url = lst_tags_url[lst_tags_str.index('我不滿意搜尋結果的商品順序')-1]\n",
    "print(target_srt)\n",
    "print(target_url)\n",
    "\n",
    "print('\\nTime cost: %10.6f s' % (time.time() - tStart))"
   ]
  },
  {
   "cell_type": "markdown",
   "metadata": {},
   "source": [
    "### Request to visit the goods page of the given book"
   ]
  },
  {
   "cell_type": "code",
   "execution_count": 16,
   "metadata": {},
   "outputs": [
    {
     "name": "stdout",
     "output_type": "stream",
     "text": [
      "\n",
      "Time cost:   0.990088 s\n"
     ]
    }
   ],
   "source": [
    "tStart = time.time()\n",
    "target_url2 = target_url[target_url.index('purl=')+5:target_url.index('.html')+5]\n",
    "r_target2 = requests.get(target_url2)\n",
    "soup_target2 = bs(r_target2.text, 'html.parser')\n",
    "print('\\nTime cost: %10.6f s' % (time.time() - tStart))"
   ]
  },
  {
   "cell_type": "markdown",
   "metadata": {},
   "source": [
    "### Obtain all the texts on the visited page"
   ]
  },
  {
   "cell_type": "code",
   "execution_count": 17,
   "metadata": {},
   "outputs": [
    {
     "name": "stdout",
     "output_type": "stream",
     "text": [
      "\n",
      "Time cost:   0.013978 s\n"
     ]
    }
   ],
   "source": [
    "tStart = time.time()\n",
    "all_tags = soup_target2.find_all(text=True)\n",
    "lst_all_tags = []\n",
    "for tag in all_tags:\n",
    "    lst_all_tags.append(tag)\n",
    "print('\\nTime cost: %10.6f s' % (time.time() - tStart))"
   ]
  },
  {
   "cell_type": "markdown",
   "metadata": {},
   "source": [
    "### Remove useless texts"
   ]
  },
  {
   "cell_type": "code",
   "execution_count": 18,
   "metadata": {},
   "outputs": [
    {
     "name": "stdout",
     "output_type": "stream",
     "text": [
      "4264\n",
      "1402\n"
     ]
    }
   ],
   "source": [
    "print(len(lst_all_tags))\n",
    "for i in range(lst_all_tags.count('\\n')):\n",
    "    lst_all_tags.remove('\\n')\n",
    "print(len(lst_all_tags))"
   ]
  },
  {
   "cell_type": "markdown",
   "metadata": {},
   "source": [
    "### Obtain the goods info of the given book"
   ]
  },
  {
   "cell_type": "code",
   "execution_count": 21,
   "metadata": {},
   "outputs": [],
   "source": [
    "idx = lst_all_tags.index('商品資料')\n",
    "lst_book_info = lst_all_tags[idx:idx+30]"
   ]
  },
  {
   "cell_type": "code",
   "execution_count": 22,
   "metadata": {},
   "outputs": [],
   "source": [
    "# author = lst_book_info[lst_book_info.index('作者：')+1]\n",
    "# publisher = lst_book_info[lst_book_info.index('出版社：')+1]\n",
    "# publish_dt = lst_book_info[lst_book_info.index('出版日期：')+1]\n",
    "# language = lst_book_info[lst_book_info.index('語言：')+1]\n",
    "# binding = lst_book_info[lst_book_info.index('裝訂方式：')+1]\n",
    "# n_page = int(lst_book_info[lst_book_info.index('頁數：')+1][:-1])\n",
    "\n",
    "# if '譯者：' in lst_book_info:\n",
    "#     translator = lst_book_info[lst_book_info.index('譯者：')+1]\n",
    "# else:\n",
    "#     translator = 'NA'"
   ]
  },
  {
   "cell_type": "code",
   "execution_count": 23,
   "metadata": {},
   "outputs": [
    {
     "data": {
      "text/plain": [
       "['商品資料',\n",
       " '作者：',\n",
       " '愛麗絲．博耶斯',\n",
       " '譯者：',\n",
       " '劉佳澐',\n",
       " '出版社：',\n",
       " '英屬維京群島商高寶國際有限公司台灣分公司',\n",
       " '出版日期：',\n",
       " '2019-02-20',\n",
       " 'ISBN/ISSN：',\n",
       " '9789863616467',\n",
       " '語言：',\n",
       " '繁體中文',\n",
       " '檔案格式：',\n",
       " 'ePub',\n",
       " '檔案大小：',\n",
       " '4.21MB',\n",
       " '類別：',\n",
       " '中文電子書',\n",
       " '>',\n",
       " '心理勵志',\n",
       " '>',\n",
       " '心理學理論',\n",
       " '類別有誤？',\n",
       " '我的分類建議：',\n",
       " '您的建議正在處理中...',\n",
       " '標籤：',\n",
       " '目前無標籤',\n",
       " '您的標籤：',\n",
       " '新增您自己的標籤']"
      ]
     },
     "execution_count": 23,
     "metadata": {},
     "output_type": "execute_result"
    }
   ],
   "source": [
    "lst_book_info"
   ]
  },
  {
   "cell_type": "markdown",
   "metadata": {},
   "source": [
    "## More-organized function codes for abundant books"
   ]
  },
  {
   "cell_type": "code",
   "execution_count": 7,
   "metadata": {},
   "outputs": [],
   "source": [
    "def get_book_info(ISBN):\n",
    "    \n",
    "    # import the packages\n",
    "    import re\n",
    "    import time\n",
    "    import requests\n",
    "    import pandas as pd\n",
    "    from bs4 import BeautifulSoup as bs\n",
    "    \n",
    "    tStart = time.time()\n",
    "    \n",
    "    # Visit the searching page of the given ISBN\n",
    "    url_root = 'https://www.taaze.tw/rwd_searchResult.html?keyType%5B%5D=0&keyword%5B%5D='\n",
    "    r = requests.get(url_root + str(ISBN))\n",
    "    soup = bs(r.text, 'html.parser')\n",
    "    \n",
    "    # Find the url of the target goods page\n",
    "    lst_tags_str, lst_tags_url = [], []\n",
    "    a_tags = soup.find_all('a')\n",
    "    for tag in a_tags:\n",
    "        lst_tags_str.append(tag.string)\n",
    "        lst_tags_url.append(tag.get('href'))\n",
    "    target_srt = lst_tags_str[lst_tags_str.index('我不滿意搜尋結果的商品順序')-1]\n",
    "    target_url = lst_tags_url[lst_tags_str.index('我不滿意搜尋結果的商品順序')-1]\n",
    "    \n",
    "    if 'https://' in target_url:   \n",
    "        print(target_srt)\n",
    "        print(target_url)\n",
    "\n",
    "        # Visit the goods page of the givien ISBN\n",
    "        target_url2 = target_url[target_url.index('purl=')+5:target_url.index('.html')+5]\n",
    "        print(target_url2)\n",
    "        r_target2 = requests.get(target_url2)\n",
    "        soup_target2 = bs(r_target2.text, 'html.parser')\n",
    "\n",
    "        # Obtain all the texts on the visited page\n",
    "        all_tags = soup_target2.find_all(text=True)\n",
    "        lst_all_tags = []\n",
    "        for tag in all_tags:\n",
    "            lst_all_tags.append(tag)\n",
    "\n",
    "        # Remove useless texts\n",
    "        for i in range(lst_all_tags.count('\\n')):\n",
    "            lst_all_tags.remove('\\n')\n",
    "\n",
    "        # Obtain the book info and return it out\n",
    "        if '商品資料' in lst_all_tags:\n",
    "            idx = lst_all_tags.index('商品資料')\n",
    "            book_info = target_srt + '\\', ' + str(lst_all_tags[idx:idx+25])[1:]\n",
    "            return book_info\n",
    "        else:\n",
    "            return 'NA\\', \\''*25\n",
    "    \n",
    "    else:\n",
    "        return 'NA\\', \\''*25\n",
    "    #print('\\nTime cost: %10.6f s' % (time.time() - tStart))"
   ]
  },
  {
   "cell_type": "code",
   "execution_count": 8,
   "metadata": {},
   "outputs": [
    {
     "name": "stdout",
     "output_type": "stream",
     "text": [
      "NA', 'NA', 'NA', 'NA', 'NA', 'NA', 'NA', 'NA', 'NA', 'NA', 'NA', 'NA', 'NA', 'NA', 'NA', 'NA', 'NA', 'NA', 'NA', 'NA', 'NA', 'NA', 'NA', 'NA', 'NA', '\n"
     ]
    }
   ],
   "source": [
    "book = get_book_info('9789578039056')\n",
    "print(book)"
   ]
  },
  {
   "cell_type": "code",
   "execution_count": 9,
   "metadata": {},
   "outputs": [],
   "source": [
    "import numpy as np\n",
    "import pandas as pd"
   ]
  },
  {
   "cell_type": "code",
   "execution_count": 10,
   "metadata": {},
   "outputs": [
    {
     "data": {
      "text/plain": [
       "(7, 6)"
      ]
     },
     "execution_count": 10,
     "metadata": {},
     "output_type": "execute_result"
    }
   ],
   "source": [
    "books = pd.read_csv('aug2020.csv')\n",
    "books.shape"
   ]
  },
  {
   "cell_type": "code",
   "execution_count": 11,
   "metadata": {},
   "outputs": [
    {
     "data": {
      "text/html": [
       "<div>\n",
       "<style scoped>\n",
       "    .dataframe tbody tr th:only-of-type {\n",
       "        vertical-align: middle;\n",
       "    }\n",
       "\n",
       "    .dataframe tbody tr th {\n",
       "        vertical-align: top;\n",
       "    }\n",
       "\n",
       "    .dataframe thead th {\n",
       "        text-align: right;\n",
       "    }\n",
       "</style>\n",
       "<table border=\"1\" class=\"dataframe\">\n",
       "  <thead>\n",
       "    <tr style=\"text-align: right;\">\n",
       "      <th></th>\n",
       "      <th>Barcode</th>\n",
       "      <th>Name</th>\n",
       "      <th>Quantity</th>\n",
       "      <th>Description</th>\n",
       "      <th>Type</th>\n",
       "      <th>Date</th>\n",
       "    </tr>\n",
       "  </thead>\n",
       "  <tbody>\n",
       "    <tr>\n",
       "      <th>0</th>\n",
       "      <td>9789863844112</td>\n",
       "      <td>NaN</td>\n",
       "      <td>1</td>\n",
       "      <td>NaN</td>\n",
       "      <td>EAN_13</td>\n",
       "      <td>2020/08/17 下午28:11:11</td>\n",
       "    </tr>\n",
       "    <tr>\n",
       "      <th>1</th>\n",
       "      <td>9789864762729</td>\n",
       "      <td>NaN</td>\n",
       "      <td>1</td>\n",
       "      <td>NaN</td>\n",
       "      <td>EAN_13</td>\n",
       "      <td>2020/08/17 下午40:11:11</td>\n",
       "    </tr>\n",
       "    <tr>\n",
       "      <th>2</th>\n",
       "      <td>9789578654044</td>\n",
       "      <td>NaN</td>\n",
       "      <td>1</td>\n",
       "      <td>NaN</td>\n",
       "      <td>EAN_13</td>\n",
       "      <td>2020/08/17 下午49:11:11</td>\n",
       "    </tr>\n",
       "    <tr>\n",
       "      <th>3</th>\n",
       "      <td>9789869634892</td>\n",
       "      <td>NaN</td>\n",
       "      <td>1</td>\n",
       "      <td>NaN</td>\n",
       "      <td>EAN_13</td>\n",
       "      <td>2020/08/17 下午56:11:11</td>\n",
       "    </tr>\n",
       "    <tr>\n",
       "      <th>4</th>\n",
       "      <td>9789865080686</td>\n",
       "      <td>NaN</td>\n",
       "      <td>1</td>\n",
       "      <td>NaN</td>\n",
       "      <td>EAN_13</td>\n",
       "      <td>2020/08/17 下午03:12:11</td>\n",
       "    </tr>\n",
       "    <tr>\n",
       "      <th>5</th>\n",
       "      <td>9789869804011</td>\n",
       "      <td>NaN</td>\n",
       "      <td>1</td>\n",
       "      <td>NaN</td>\n",
       "      <td>EAN_13</td>\n",
       "      <td>2020/08/17 下午08:12:11</td>\n",
       "    </tr>\n",
       "    <tr>\n",
       "      <th>6</th>\n",
       "      <td>9789869753456</td>\n",
       "      <td>NaN</td>\n",
       "      <td>1</td>\n",
       "      <td>NaN</td>\n",
       "      <td>EAN_13</td>\n",
       "      <td>2020/08/17 下午16:12:11</td>\n",
       "    </tr>\n",
       "  </tbody>\n",
       "</table>\n",
       "</div>"
      ],
      "text/plain": [
       "         Barcode  Name  Quantity  Description    Type                   Date\n",
       "0  9789863844112   NaN         1          NaN  EAN_13  2020/08/17 下午28:11:11\n",
       "1  9789864762729   NaN         1          NaN  EAN_13  2020/08/17 下午40:11:11\n",
       "2  9789578654044   NaN         1          NaN  EAN_13  2020/08/17 下午49:11:11\n",
       "3  9789869634892   NaN         1          NaN  EAN_13  2020/08/17 下午56:11:11\n",
       "4  9789865080686   NaN         1          NaN  EAN_13  2020/08/17 下午03:12:11\n",
       "5  9789869804011   NaN         1          NaN  EAN_13  2020/08/17 下午08:12:11\n",
       "6  9789869753456   NaN         1          NaN  EAN_13  2020/08/17 下午16:12:11"
      ]
     },
     "execution_count": 11,
     "metadata": {},
     "output_type": "execute_result"
    }
   ],
   "source": [
    "books.head(10)"
   ]
  },
  {
   "cell_type": "code",
   "execution_count": 15,
   "metadata": {
    "scrolled": true
   },
   "outputs": [
    {
     "name": "stdout",
     "output_type": "stream",
     "text": [
      "\n",
      "Time cost:   2.948285 s\n"
     ]
    }
   ],
   "source": [
    "tStart = time.time()\n",
    "books = books[['Barcode']]\n",
    "books['book_info'] = books.Barcode.apply(lambda x: get_book_info(x))\n",
    "print('\\nTime cost: %10.6f s' % (time.time() - tStart))"
   ]
  },
  {
   "cell_type": "code",
   "execution_count": 16,
   "metadata": {},
   "outputs": [],
   "source": [
    "books['name'] = books.book_info.apply(lambda x: x.split('\\', \\'')[0])\n",
    "books['author'] = books.book_info.apply(lambda x: x.split('\\', \\'')[3])\n",
    "books['translator'] = books.book_info.apply(lambda x: x.split('\\', \\'')[5]*('譯者：' in x.split('\\', \\'')))\n",
    "books['publisher'] = books.book_info.apply(lambda x: x.split('\\', \\'')[5+2*x.split('\\', \\'').count('譯者：')])\n",
    "books['publish_dt'] = books.book_info.apply(lambda x: x.split('\\', \\'')[7+2*x.split('\\', \\'').count('譯者：')])\n",
    "books['language'] = books.book_info.apply(lambda x: x.split('\\', \\'')[11+2*x.split('\\', \\'').count('譯者：')])\n",
    "books['binding'] = books.book_info.apply(lambda x: x.split('\\', \\'')[13+2*x.split('\\', \\'').count('譯者：')])\n",
    "books['n_page'] = books.book_info.apply(lambda x: x.split('\\', \\'')[15+2*x.split('\\', \\'').count('譯者：')])\n",
    "books['n_page'] = books.n_page.apply(lambda x: x.count('頁')*x[:-1])"
   ]
  },
  {
   "cell_type": "code",
   "execution_count": 17,
   "metadata": {},
   "outputs": [
    {
     "data": {
      "text/html": [
       "<div>\n",
       "<style scoped>\n",
       "    .dataframe tbody tr th:only-of-type {\n",
       "        vertical-align: middle;\n",
       "    }\n",
       "\n",
       "    .dataframe tbody tr th {\n",
       "        vertical-align: top;\n",
       "    }\n",
       "\n",
       "    .dataframe thead th {\n",
       "        text-align: right;\n",
       "    }\n",
       "</style>\n",
       "<table border=\"1\" class=\"dataframe\">\n",
       "  <thead>\n",
       "    <tr style=\"text-align: right;\">\n",
       "      <th></th>\n",
       "      <th>Barcode</th>\n",
       "      <th>name</th>\n",
       "      <th>author</th>\n",
       "      <th>translator</th>\n",
       "      <th>publisher</th>\n",
       "      <th>publish_dt</th>\n",
       "      <th>language</th>\n",
       "      <th>binding</th>\n",
       "      <th>n_page</th>\n",
       "    </tr>\n",
       "  </thead>\n",
       "  <tbody>\n",
       "    <tr>\n",
       "      <th>0</th>\n",
       "      <td>9789863844112</td>\n",
       "      <td>NA</td>\n",
       "      <td>NA</td>\n",
       "      <td></td>\n",
       "      <td>NA</td>\n",
       "      <td>NA</td>\n",
       "      <td>NA</td>\n",
       "      <td>NA</td>\n",
       "      <td></td>\n",
       "    </tr>\n",
       "    <tr>\n",
       "      <th>1</th>\n",
       "      <td>9789864762729</td>\n",
       "      <td>NA</td>\n",
       "      <td>NA</td>\n",
       "      <td></td>\n",
       "      <td>NA</td>\n",
       "      <td>NA</td>\n",
       "      <td>NA</td>\n",
       "      <td>NA</td>\n",
       "      <td></td>\n",
       "    </tr>\n",
       "    <tr>\n",
       "      <th>2</th>\n",
       "      <td>9789578654044</td>\n",
       "      <td>NA</td>\n",
       "      <td>NA</td>\n",
       "      <td></td>\n",
       "      <td>NA</td>\n",
       "      <td>NA</td>\n",
       "      <td>NA</td>\n",
       "      <td>NA</td>\n",
       "      <td></td>\n",
       "    </tr>\n",
       "    <tr>\n",
       "      <th>3</th>\n",
       "      <td>9789869634892</td>\n",
       "      <td>NA</td>\n",
       "      <td>NA</td>\n",
       "      <td></td>\n",
       "      <td>NA</td>\n",
       "      <td>NA</td>\n",
       "      <td>NA</td>\n",
       "      <td>NA</td>\n",
       "      <td></td>\n",
       "    </tr>\n",
       "    <tr>\n",
       "      <th>4</th>\n",
       "      <td>9789865080686</td>\n",
       "      <td>NA</td>\n",
       "      <td>NA</td>\n",
       "      <td></td>\n",
       "      <td>NA</td>\n",
       "      <td>NA</td>\n",
       "      <td>NA</td>\n",
       "      <td>NA</td>\n",
       "      <td></td>\n",
       "    </tr>\n",
       "    <tr>\n",
       "      <th>5</th>\n",
       "      <td>9789869804011</td>\n",
       "      <td>NA</td>\n",
       "      <td>NA</td>\n",
       "      <td></td>\n",
       "      <td>NA</td>\n",
       "      <td>NA</td>\n",
       "      <td>NA</td>\n",
       "      <td>NA</td>\n",
       "      <td></td>\n",
       "    </tr>\n",
       "    <tr>\n",
       "      <th>6</th>\n",
       "      <td>9789869753456</td>\n",
       "      <td>NA</td>\n",
       "      <td>NA</td>\n",
       "      <td></td>\n",
       "      <td>NA</td>\n",
       "      <td>NA</td>\n",
       "      <td>NA</td>\n",
       "      <td>NA</td>\n",
       "      <td></td>\n",
       "    </tr>\n",
       "  </tbody>\n",
       "</table>\n",
       "</div>"
      ],
      "text/plain": [
       "         Barcode name author translator publisher publish_dt language binding  \\\n",
       "0  9789863844112   NA     NA                   NA         NA       NA      NA   \n",
       "1  9789864762729   NA     NA                   NA         NA       NA      NA   \n",
       "2  9789578654044   NA     NA                   NA         NA       NA      NA   \n",
       "3  9789869634892   NA     NA                   NA         NA       NA      NA   \n",
       "4  9789865080686   NA     NA                   NA         NA       NA      NA   \n",
       "5  9789869804011   NA     NA                   NA         NA       NA      NA   \n",
       "6  9789869753456   NA     NA                   NA         NA       NA      NA   \n",
       "\n",
       "  n_page  \n",
       "0         \n",
       "1         \n",
       "2         \n",
       "3         \n",
       "4         \n",
       "5         \n",
       "6         "
      ]
     },
     "execution_count": 17,
     "metadata": {},
     "output_type": "execute_result"
    }
   ],
   "source": [
    "books.drop('book_info', axis=1)"
   ]
  },
  {
   "cell_type": "code",
   "execution_count": 10,
   "metadata": {},
   "outputs": [],
   "source": [
    "books.drop('book_info', axis=1).to_excel('aug2020.xlsx')"
   ]
  },
  {
   "cell_type": "code",
   "execution_count": null,
   "metadata": {},
   "outputs": [],
   "source": []
  },
  {
   "cell_type": "code",
   "execution_count": null,
   "metadata": {},
   "outputs": [],
   "source": []
  },
  {
   "cell_type": "code",
   "execution_count": null,
   "metadata": {},
   "outputs": [],
   "source": []
  },
  {
   "cell_type": "code",
   "execution_count": null,
   "metadata": {},
   "outputs": [],
   "source": []
  }
 ],
 "metadata": {
  "kernelspec": {
   "display_name": "Python 3",
   "language": "python",
   "name": "python3"
  },
  "language_info": {
   "codemirror_mode": {
    "name": "ipython",
    "version": 3
   },
   "file_extension": ".py",
   "mimetype": "text/x-python",
   "name": "python",
   "nbconvert_exporter": "python",
   "pygments_lexer": "ipython3",
   "version": "3.7.3"
  }
 },
 "nbformat": 4,
 "nbformat_minor": 2
}
