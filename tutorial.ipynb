{
 "cells": [
  {
   "cell_type": "markdown",
   "metadata": {},
   "source": [
    "# Booklist Construction\n",
    "- Author: Jay Liao\n",
    "- Main program created on 22 Oct 2019\n",
    "- Notebook upadated on 27 Feb 2024\n",
    "<br/>\n",
    "<br/>\n",
    "Given the ISBN of a book, the program would get basic info of the book from TAZZE.com. This notebook aims to be a step-by-step tutorial by demonstrating for one ISBN."
   ]
  },
  {
   "cell_type": "markdown",
   "metadata": {},
   "source": [
    "## Obtain the info for one single book"
   ]
  },
  {
   "cell_type": "markdown",
   "metadata": {},
   "source": [
    "### Import the packages"
   ]
  },
  {
   "cell_type": "code",
   "execution_count": 1,
   "metadata": {},
   "outputs": [],
   "source": [
    "import re\n",
    "import time\n",
    "import requests\n",
    "import pandas as pd\n",
    "from bs4 import BeautifulSoup as bs"
   ]
  },
  {
   "cell_type": "markdown",
   "metadata": {},
   "source": [
    "### Request to visit the seaching page of the given ISBN on TAZZE.com"
   ]
  },
  {
   "cell_type": "markdown",
   "metadata": {},
   "source": [
    "#### Give an ISBN"
   ]
  },
  {
   "cell_type": "code",
   "execution_count": 50,
   "metadata": {},
   "outputs": [],
   "source": [
    "ISBN = 9786267149485"
   ]
  },
  {
   "cell_type": "code",
   "execution_count": 177,
   "metadata": {},
   "outputs": [],
   "source": [
    "ISBN = 9786263299443"
   ]
  },
  {
   "cell_type": "markdown",
   "metadata": {},
   "source": [
    "#### Observe the format of url of the searching page to se up the url with the given ISBN"
   ]
  },
  {
   "cell_type": "code",
   "execution_count": 178,
   "metadata": {},
   "outputs": [],
   "source": [
    "url_root1 = 'https://www.taaze.tw/rwd_searchResult.html?keyType%5B%5D=0&keyword%5B%5D='\n",
    "url_root2 = '&prodKind=0&prodCatId=0&catId=0&saleDiscStart=0&saleDiscEnd=0&salePriceStart=&salePriceEnd=&publishDateStart=&publishDateEnd=&prodRank=0&addMarkFlg=0&force=0&catFocus=11&orgFocus=A&layout=A&nowPage=1&sort='\n",
    "r = requests.get(f'{url_root1}{ISBN}{url_root2}')\n",
    "soup = bs(r.text, 'html.parser')"
   ]
  },
  {
   "cell_type": "markdown",
   "metadata": {},
   "source": [
    "#### Get strings and links of all a class tags"
   ]
  },
  {
   "cell_type": "code",
   "execution_count": 179,
   "metadata": {},
   "outputs": [
    {
     "name": "stdout",
     "output_type": "stream",
     "text": [
      "\n",
      "Time cost:   0.000855 s\n"
     ]
    }
   ],
   "source": [
    "tStart = time.time()\n",
    "lst_tags_str = []\n",
    "lst_tags_url = []\n",
    "a_tags = soup.find_all('a') # get all a class objects\n",
    "\n",
    "for tag in a_tags:\n",
    "    lst_tags_str.append(tag.string)\n",
    "    lst_tags_url.append(tag.get('href'))\n",
    "\n",
    "print('\\nTime cost: %10.6f s' % (time.time() - tStart))"
   ]
  },
  {
   "cell_type": "markdown",
   "metadata": {},
   "source": [
    "#### Observe the pattern of the target page url (the main page of the target book item)"
   ]
  },
  {
   "cell_type": "code",
   "execution_count": 180,
   "metadata": {},
   "outputs": [
    {
     "data": {
      "text/plain": [
       "[None,\n",
       " '學堂',\n",
       " '冊格子',\n",
       " '二手書送你',\n",
       " '登入',\n",
       " None,\n",
       " '會員中心',\n",
       " None,\n",
       " '書籍',\n",
       " '中文書',\n",
       " '雜誌',\n",
       " '中文雜誌',\n",
       " '日文MOOK',\n",
       " '歐美雜誌',\n",
       " '韓文雜誌',\n",
       " '電子書',\n",
       " '中文電子書',\n",
       " '中文電子雜誌',\n",
       " '二手書',\n",
       " '二手中文書',\n",
       " '二手簡體書',\n",
       " '二手原文書',\n",
       " '二手日文MOOK',\n",
       " 'CD/DVD',\n",
       " 'CD',\n",
       " 'DVD',\n",
       " '文具百貨',\n",
       " '創意文具',\n",
       " '生活百貨',\n",
       " '搶絕版書',\n",
       " '49元!',\n",
       " '健康很簡單',\n",
       " '最高6%紅利',\n",
       " '我要賣二手書',\n",
       " '張西',\n",
       " '鹽水大飯店',\n",
       " '星空地圖',\n",
       " '讀字樂園',\n",
       " '大塊全書系7折起',\n",
       " '繁花',\n",
       " '股魚',\n",
       " None,\n",
       " 'TAAZE讀冊生活',\n",
       " None,\n",
       " '張西',\n",
       " '鹽水大飯店',\n",
       " '星空地圖',\n",
       " '讀字樂園',\n",
       " '大塊全書系7折起',\n",
       " '繁花',\n",
       " '股魚',\n",
       " '首頁',\n",
       " '登入',\n",
       " None,\n",
       " '暫存清單',\n",
       " '書籍',\n",
       " '中文書',\n",
       " '雜誌',\n",
       " '中文雜誌',\n",
       " '日文MOOK',\n",
       " '歐美雜誌',\n",
       " '韓文雜誌',\n",
       " '電子書',\n",
       " '中文電子書',\n",
       " '中文電子雜誌',\n",
       " '二手書',\n",
       " '二手中文書',\n",
       " '二手簡體書',\n",
       " '二手原文書',\n",
       " '二手日文MOOK',\n",
       " 'CD/DVD',\n",
       " 'CD',\n",
       " 'DVD',\n",
       " '文具百貨',\n",
       " '創意文具',\n",
       " '生活百貨',\n",
       " '我要賣二手書',\n",
       " '搶絕版書',\n",
       " '49元!',\n",
       " '最高6%紅利',\n",
       " '學堂',\n",
       " '冊格子',\n",
       " '會員中心',\n",
       " None,\n",
       " None,\n",
       " '書籍\\xa0(1)',\n",
       " '\\xa0\\xa0\\xa0-',\n",
       " '中文書\\xa0(1)',\n",
       " '\\xa0\\xa0\\xa0-',\n",
       " '旅遊\\xa0(1)',\n",
       " '\\xa0+',\n",
       " '歐洲\\xa0(1)',\n",
       " '電子書\\xa0(1)',\n",
       " '\\xa0\\xa0\\xa0-',\n",
       " '中文電子書\\xa0(1)',\n",
       " '\\xa0\\xa0\\xa0+',\n",
       " '旅遊\\xa0(1)',\n",
       " '\\xa0+',\n",
       " '歐洲\\xa0(1)',\n",
       " None,\n",
       " '精準度排序',\n",
       " '暢銷度排序',\n",
       " '出版日期排序',\n",
       " '價格排序',\n",
       " None,\n",
       " '書籍\\xa0(1)',\n",
       " '\\xa0\\xa0\\xa0-',\n",
       " '中文書\\xa0(1)',\n",
       " '\\xa0\\xa0\\xa0-',\n",
       " '旅遊\\xa0(1)',\n",
       " '\\xa0+',\n",
       " '歐洲\\xa0(1)',\n",
       " '電子書\\xa0(1)',\n",
       " '\\xa0\\xa0\\xa0-',\n",
       " '中文電子書\\xa0(1)',\n",
       " '\\xa0\\xa0\\xa0+',\n",
       " '旅遊\\xa0(1)',\n",
       " '\\xa0+',\n",
       " '歐洲\\xa0(1)',\n",
       " '編輯',\n",
       " None,\n",
       " '精準度排序',\n",
       " '暢銷度排序',\n",
       " '出版日期排序',\n",
       " '價格排序',\n",
       " '慢遊法國：美景、藝術、建築、歷史的深度體驗，歐洲線領隊從自助到跟團的隨身導覽攻略\\n',\n",
       " '魏宏展',\n",
       " '台灣東販股份有限公司',\n",
       " '我不滿意搜尋結果的商品順序',\n",
       " '我查不到想要的商品',\n",
       " '是否能新增功能？',\n",
       " '好像故障了？',\n",
       " '其他建議',\n",
       " None,\n",
       " None,\n",
       " None,\n",
       " None,\n",
       " None,\n",
       " None,\n",
       " None,\n",
       " None,\n",
       " None,\n",
       " None,\n",
       " '精準度排序',\n",
       " '暢銷度排序',\n",
       " '出版日期排序',\n",
       " '價格排序',\n",
       " None,\n",
       " None,\n",
       " None,\n",
       " '關於我們',\n",
       " '第一次購物',\n",
       " '第一次賣二手書',\n",
       " '現金回饋',\n",
       " '新會員好禮',\n",
       " '圖書館借閱查詢',\n",
       " '工作機會',\n",
       " '加入書籍供應商',\n",
       " '加入電子書供應商',\n",
       " '加入創意生活供應商',\n",
       " '行銷分紅夥伴計畫',\n",
       " '異業合作',\n",
       " '廣告合作',\n",
       " '加入二手書義賣受捐單位',\n",
       " '訂購、訂單查詢',\n",
       " '取貨方式',\n",
       " '付款方式與運費',\n",
       " '退換貨',\n",
       " '常見Q&A',\n",
       " '客服信箱',\n",
       " None,\n",
       " None,\n",
       " None,\n",
       " '學思行數位行銷股份有限公司 統一編號：24342999',\n",
       " '會員服務使用條款',\n",
       " '隱私權政策',\n",
       " '電腦版',\n",
       " '手機版']"
      ]
     },
     "execution_count": 180,
     "metadata": {},
     "output_type": "execute_result"
    }
   ],
   "source": [
    "lst_tags_str"
   ]
  },
  {
   "cell_type": "code",
   "execution_count": 181,
   "metadata": {},
   "outputs": [
    {
     "data": {
      "text/plain": [
       "['/index.html',\n",
       " 'https://www.taaze.tw/static_act/lecture/2015/index.htm',\n",
       " 'https://wecollect.fun',\n",
       " '/gift_index.html?pct=11&cp=1&ps=30&ct=010000000000&cl=1',\n",
       " '#',\n",
       " '/rwd_register.html',\n",
       " '/custManageIndex.html?tFlg=D',\n",
       " '/cart.html',\n",
       " '#',\n",
       " '/rwd_list.html?t=11&k=01&d=00',\n",
       " '#',\n",
       " '/rwd_list.html?t=21&k=01&d=00',\n",
       " '/rwd_list.html?t=24&k=01&d=00',\n",
       " '/rwd_list.html?t=23&k=01&d=00',\n",
       " '/rwd_list.html?t=22&k=01&d=00',\n",
       " '#',\n",
       " '/rwd_list.html?t=14&k=01&d=00',\n",
       " '/rwd_list.html?t=25&k=01&d=00',\n",
       " '#',\n",
       " '/rwd_list.html?t=11&k=03&d=00',\n",
       " '/rwd_list.html?t=11&k=03&d=12',\n",
       " '/rwd_list.html?t=11&k=03&d=13',\n",
       " '/rwd_list.html?t=11&k=03&d=24',\n",
       " '#',\n",
       " '/rwd_list.html?t=31&k=01&d=00',\n",
       " '/rwd_list.html?t=32&k=01&d=00',\n",
       " '#',\n",
       " '/rwd_list.html?t=61&k=01&d=00',\n",
       " '/rwd_list.html?t=62&k=01&d=00',\n",
       " '//activity.taaze.tw/home.html?m=1000685756',\n",
       " 'https://activity.taaze.tw/home.html?m=1000679743',\n",
       " 'http://www.taaze.tw/static_act/202004/terry/index.htm',\n",
       " 'https://www.taaze.tw/static_act/201603/seller_smile/index.htm#a2',\n",
       " '/sell_used_books.html',\n",
       " 'https://www.taaze.tw/products/11101029710.html',\n",
       " 'https://www.taaze.tw/static_act/202402/hotel_saltwater/page.htm',\n",
       " 'https://www.taaze.tw/sing.html?pid=21100048686',\n",
       " 'http://activity.taaze.tw/home.html?m=1000686330&_gl=1*1oibneh*_ga*MTI0ODAzMTM4MC4xNzA1NjU2ODA4*_ga_CK2C80VFK8*MTcwODU3NDEzMy43OS4xLjE3MDg1NzQyMDIuNTIuMC4w',\n",
       " 'http://activity.taaze.tw/home.html?m=1000686563&_gl=1*14nekpu*_ga*MTI0ODAzMTM4MC4xNzA1NjU2ODA4*_ga_CK2C80VFK8*MTcwODU3NDEzMy43OS4xLjE3MDg1NzQzMjQuMjEuMC4w',\n",
       " 'https://www.taaze.tw/products/11101031111.html',\n",
       " 'https://www.taaze.tw/sing.html?pid=11101028761',\n",
       " 'https://www.taaze.tw/static_act/202402/2024tibe/index.htm',\n",
       " '/rwd_index.html',\n",
       " '/custManageIndex.html?tFlg=D',\n",
       " 'https://www.taaze.tw/products/11101029710.html',\n",
       " 'https://www.taaze.tw/static_act/202402/hotel_saltwater/page.htm',\n",
       " 'https://www.taaze.tw/sing.html?pid=21100048686',\n",
       " 'http://activity.taaze.tw/home.html?m=1000686330&_gl=1*1oibneh*_ga*MTI0ODAzMTM4MC4xNzA1NjU2ODA4*_ga_CK2C80VFK8*MTcwODU3NDEzMy43OS4xLjE3MDg1NzQyMDIuNTIuMC4w',\n",
       " 'http://activity.taaze.tw/home.html?m=1000686563&_gl=1*14nekpu*_ga*MTI0ODAzMTM4MC4xNzA1NjU2ODA4*_ga_CK2C80VFK8*MTcwODU3NDEzMy43OS4xLjE3MDg1NzQzMjQuMjEuMC4w',\n",
       " 'https://www.taaze.tw/products/11101031111.html',\n",
       " 'https://www.taaze.tw/sing.html?pid=11101028761',\n",
       " '/rwd_index.html',\n",
       " '#',\n",
       " '/rwd_register.html',\n",
       " '/listCartWatch.html',\n",
       " '#ulBooks',\n",
       " '/rwd_list.html?t=11&k=01&d=00',\n",
       " '#ulMagz',\n",
       " '/rwd_list.html?t=21&k=01&d=00',\n",
       " '/rwd_list.html?t=24&k=01&d=00',\n",
       " '/rwd_list.html?t=23&k=01&d=00',\n",
       " '/rwd_list.html?t=22&k=01&d=00',\n",
       " '#ulEbooks',\n",
       " '/rwd_list.html?t=14&k=01&d=00',\n",
       " '/rwd_list.html?t=25&k=01&d=00',\n",
       " '#ulUsedBooks',\n",
       " '/rwd_list.html?t=11&k=03&d=00',\n",
       " '/rwd_list.html?t=11&k=03&d=12',\n",
       " '/rwd_list.html?t=11&k=03&d=13',\n",
       " '/rwd_list.html?t=11&k=03&d=24',\n",
       " '#ulDVDCD',\n",
       " '/rwd_list.html?t=31&k=01&d=00',\n",
       " '/rwd_list.html?t=32&k=01&d=00',\n",
       " '#ulItems',\n",
       " '/rwd_list.html?t=61&k=01&d=00',\n",
       " '/rwd_list.html?t=62&k=01&d=00',\n",
       " '/sell_used_books.html',\n",
       " '//activity.taaze.tw/home.html?m=1000685756',\n",
       " 'https://activity.taaze.tw/home.html?m=1000679743',\n",
       " 'https://www.taaze.tw/static_act/201603/seller_smile/index.htm#a2',\n",
       " 'https://www.taaze.tw/static_act/lecture/2015/index.htm',\n",
       " '//wecollect.fun',\n",
       " '/custManageIndex.html?tFlg=D',\n",
       " '#mlistProdCat',\n",
       " '/rwd_searchResult.html?keyType%5B%5D=0&keyword%5B%5D=9786263299443&prodKind=0&prodCatId=0&catId=0&saleDiscStart=0&saleDiscEnd=0&salePriceStart=&salePriceEnd=&publishDateStart=&publishDateEnd=&prodRank=0&addMarkFlg=0&force=0&layout=A&nowPage=1&sort=',\n",
       " '/rwd_searchResult.html?keyType%5B%5D=0&keyword%5B%5D=9786263299443&prodKind=0&prodCatId=0&catId=0&saleDiscStart=0&saleDiscEnd=0&salePriceStart=&salePriceEnd=&publishDateStart=&publishDateEnd=&prodRank=0&addMarkFlg=0&force=0&mainCatFocus=2&orgFocus=A&layout=A&nowPage=1&sort=',\n",
       " None,\n",
       " '/rwd_searchResult.html?keyType%5B%5D=0&keyword%5B%5D=9786263299443&prodKind=0&prodCatId=0&catId=0&saleDiscStart=0&saleDiscEnd=0&salePriceStart=&salePriceEnd=&publishDateStart=&publishDateEnd=&prodRank=0&addMarkFlg=0&force=0&catFocus=11&orgFocus=A&layout=A&nowPage=1&sort=',\n",
       " None,\n",
       " '/rwd_searchResult.html?keyType%5B%5D=0&keyword%5B%5D=9786263299443&prodKind=0&prodCatId=0&catId=0&saleDiscStart=0&saleDiscEnd=0&salePriceStart=&salePriceEnd=&publishDateStart=&publishDateEnd=&prodRank=0&addMarkFlg=0&force=0&catFocus=11&orgFocus=A&catNmFocus=140000000000&layout=A&nowPage=1&sort=',\n",
       " None,\n",
       " '/rwd_searchResult.html?keyType%5B%5D=0&keyword%5B%5D=9786263299443&prodKind=0&prodCatId=0&catId=0&saleDiscStart=0&saleDiscEnd=0&salePriceStart=&salePriceEnd=&publishDateStart=&publishDateEnd=&prodRank=0&addMarkFlg=0&force=0&catFocus=11&orgFocus=A&catNmFocus=140000000000&catIdFocus=141500000000&layout=A&nowPage=1&sort=',\n",
       " '/rwd_searchResult.html?keyType%5B%5D=0&keyword%5B%5D=9786263299443&prodKind=0&prodCatId=0&catId=0&saleDiscStart=0&saleDiscEnd=0&salePriceStart=&salePriceEnd=&publishDateStart=&publishDateEnd=&prodRank=0&addMarkFlg=0&force=0&mainCatFocus=4&orgFocus=A&layout=A&nowPage=1&sort=',\n",
       " None,\n",
       " '/rwd_searchResult.html?keyType%5B%5D=0&keyword%5B%5D=9786263299443&prodKind=0&prodCatId=0&catId=0&saleDiscStart=0&saleDiscEnd=0&salePriceStart=&salePriceEnd=&publishDateStart=&publishDateEnd=&prodRank=0&addMarkFlg=0&force=0&catFocus=14&orgFocus=A&layout=A&nowPage=1&sort=',\n",
       " None,\n",
       " '/rwd_searchResult.html?keyType%5B%5D=0&keyword%5B%5D=9786263299443&prodKind=0&prodCatId=0&catId=0&saleDiscStart=0&saleDiscEnd=0&salePriceStart=&salePriceEnd=&publishDateStart=&publishDateEnd=&prodRank=0&addMarkFlg=0&force=0&catFocus=14&orgFocus=A&catNmFocus=140000000000&layout=A&nowPage=1&sort=',\n",
       " None,\n",
       " '/rwd_searchResult.html?keyType%5B%5D=0&keyword%5B%5D=9786263299443&prodKind=0&prodCatId=0&catId=0&saleDiscStart=0&saleDiscEnd=0&salePriceStart=&salePriceEnd=&publishDateStart=&publishDateEnd=&prodRank=0&addMarkFlg=0&force=0&catFocus=14&orgFocus=A&catNmFocus=140000000000&catIdFocus=141500000000&layout=A&nowPage=1&sort=',\n",
       " 'https://biggo.com.tw',\n",
       " '#',\n",
       " '#',\n",
       " '#',\n",
       " '#',\n",
       " '/rwd_searchResult.html?keyType%5B%5D=0&keyword%5B%5D=9786263299443&prodKind=0&prodCatId=0&catId=0&saleDiscStart=0&saleDiscEnd=0&salePriceStart=&salePriceEnd=&publishDateStart=&publishDateEnd=&prodRank=0&addMarkFlg=0&force=0&layout=A&nowPage=1&sort=',\n",
       " '/rwd_searchResult.html?keyType%5B%5D=0&keyword%5B%5D=9786263299443&prodKind=0&prodCatId=0&catId=0&saleDiscStart=0&saleDiscEnd=0&salePriceStart=&salePriceEnd=&publishDateStart=&publishDateEnd=&prodRank=0&addMarkFlg=0&force=0&mainCatFocus=2&orgFocus=A&layout=A&nowPage=1&sort=',\n",
       " None,\n",
       " '/rwd_searchResult.html?keyType%5B%5D=0&keyword%5B%5D=9786263299443&prodKind=0&prodCatId=0&catId=0&saleDiscStart=0&saleDiscEnd=0&salePriceStart=&salePriceEnd=&publishDateStart=&publishDateEnd=&prodRank=0&addMarkFlg=0&force=0&catFocus=11&orgFocus=A&layout=A&nowPage=1&sort=',\n",
       " None,\n",
       " '/rwd_searchResult.html?keyType%5B%5D=0&keyword%5B%5D=9786263299443&prodKind=0&prodCatId=0&catId=0&saleDiscStart=0&saleDiscEnd=0&salePriceStart=&salePriceEnd=&publishDateStart=&publishDateEnd=&prodRank=0&addMarkFlg=0&force=0&catFocus=11&orgFocus=A&catNmFocus=140000000000&layout=A&nowPage=1&sort=',\n",
       " None,\n",
       " '/rwd_searchResult.html?keyType%5B%5D=0&keyword%5B%5D=9786263299443&prodKind=0&prodCatId=0&catId=0&saleDiscStart=0&saleDiscEnd=0&salePriceStart=&salePriceEnd=&publishDateStart=&publishDateEnd=&prodRank=0&addMarkFlg=0&force=0&catFocus=11&orgFocus=A&catNmFocus=140000000000&catIdFocus=141500000000&layout=A&nowPage=1&sort=',\n",
       " '/rwd_searchResult.html?keyType%5B%5D=0&keyword%5B%5D=9786263299443&prodKind=0&prodCatId=0&catId=0&saleDiscStart=0&saleDiscEnd=0&salePriceStart=&salePriceEnd=&publishDateStart=&publishDateEnd=&prodRank=0&addMarkFlg=0&force=0&mainCatFocus=4&orgFocus=A&layout=A&nowPage=1&sort=',\n",
       " None,\n",
       " '/rwd_searchResult.html?keyType%5B%5D=0&keyword%5B%5D=9786263299443&prodKind=0&prodCatId=0&catId=0&saleDiscStart=0&saleDiscEnd=0&salePriceStart=&salePriceEnd=&publishDateStart=&publishDateEnd=&prodRank=0&addMarkFlg=0&force=0&catFocus=14&orgFocus=A&layout=A&nowPage=1&sort=',\n",
       " None,\n",
       " '/rwd_searchResult.html?keyType%5B%5D=0&keyword%5B%5D=9786263299443&prodKind=0&prodCatId=0&catId=0&saleDiscStart=0&saleDiscEnd=0&salePriceStart=&salePriceEnd=&publishDateStart=&publishDateEnd=&prodRank=0&addMarkFlg=0&force=0&catFocus=14&orgFocus=A&catNmFocus=140000000000&layout=A&nowPage=1&sort=',\n",
       " None,\n",
       " '/rwd_searchResult.html?keyType%5B%5D=0&keyword%5B%5D=9786263299443&prodKind=0&prodCatId=0&catId=0&saleDiscStart=0&saleDiscEnd=0&salePriceStart=&salePriceEnd=&publishDateStart=&publishDateEnd=&prodRank=0&addMarkFlg=0&force=0&catFocus=14&orgFocus=A&catNmFocus=140000000000&catIdFocus=141500000000&layout=A&nowPage=1&sort=',\n",
       " None,\n",
       " 'https://biggo.com.tw',\n",
       " '#',\n",
       " '#',\n",
       " '#',\n",
       " '#',\n",
       " 'https://www.taaze.tw/products/11101015798.html',\n",
       " '/rwd_searchResult.html?keyType%5B%5D=2&keyword%5B%5D=%E9%AD%8F%E5%AE%8F%E5%B1%95',\n",
       " '/rwd_searchResult.html?keyType%5B%5D=3&keyword%5B%5D=台灣東販股份有限公司',\n",
       " '#',\n",
       " '#',\n",
       " '#',\n",
       " '#',\n",
       " '#',\n",
       " '/gift_index.html?pct=11&cp=1&ps=30&ct=010000000000&cl=1',\n",
       " '#bestSell',\n",
       " '#bestSell',\n",
       " '/gift_index.html?pct=11&cp=1&ps=30&ct=010000000000&cl=1',\n",
       " '',\n",
       " '#bestSellm',\n",
       " '#bestSellm',\n",
       " '#mlistProdCat',\n",
       " '/rwd_searchResult.html?keyType%5B%5D=0&keyword%5B%5D=9786263299443&prodKind=0&prodCatId=0&catId=0&saleDiscStart=0&saleDiscEnd=0&salePriceStart=&salePriceEnd=&publishDateStart=&publishDateEnd=&prodRank=0&addMarkFlg=0&force=0&layout=A&nowPage=1&sort=',\n",
       " 'https://biggo.com.tw',\n",
       " '#',\n",
       " '#',\n",
       " '#',\n",
       " '#',\n",
       " 'https://www.taaze.tw/gift_index.html?pct=11&cp=1&ps=30&ct=010000000000&cl=1',\n",
       " 'https://www.taaze.tw/static_act/201603/seller_smile/index.htm',\n",
       " 'https://www.taaze.tw/static_act/202402/2024tibe/index.htm',\n",
       " 'https://www.taaze.tw/static_act/about/index.htm',\n",
       " 'https://www.taaze.tw/static_act/starthere/index.htm',\n",
       " 'https://www.taaze.tw/sell_used_books.html',\n",
       " 'https://www.taaze.tw/static_act/201012/1201ecoupon/index.htm',\n",
       " 'https://www.taaze.tw/static_act/membergift/index.htm',\n",
       " 'https://www.taaze.tw/static_act/librarysearch/index.htm',\n",
       " 'https://www.taaze.tw/static_act/jobs/index.htm',\n",
       " 'https://www.taaze.tw/static_act/partner/index.htm',\n",
       " 'https://www.taaze.tw/static_act/ebook/index.htm',\n",
       " 'https://www.taaze.tw/static_act/zakka/index.htm',\n",
       " 'https://www.taaze.tw/affiliateprogram/index.jsp',\n",
       " 'https://www.taaze.tw/static_act/cooperation/index.htm',\n",
       " 'https://www.taaze.tw/static_act/201404/taaze_ads/index.htm',\n",
       " 'https://www.taaze.tw/snd161124_index.html',\n",
       " '/qa/view/b.html',\n",
       " '/qa/view/c.html',\n",
       " '/qa/view/c.html#a2',\n",
       " '/qa/view/g.html',\n",
       " '/rwd_qa.html',\n",
       " '/rwd_inquiry.html',\n",
       " 'http://www.facebook.com/TAAZE',\n",
       " 'https://www.instagram.com/taaze.tw/',\n",
       " 'http://ebook.taaze.tw/do/rssfeed/rssindex.aspx',\n",
       " 'https://www.taaze.tw',\n",
       " 'https://www.taaze.tw/static_act/member/index.htm',\n",
       " 'https://www.taaze.tw/static_act/privacynotice/index.htm',\n",
       " '/rwd_setcookie.html',\n",
       " '/rwd_cleancookie.html']"
      ]
     },
     "execution_count": 181,
     "metadata": {},
     "output_type": "execute_result"
    }
   ],
   "source": [
    "lst_tags_url"
   ]
  },
  {
   "cell_type": "code",
   "execution_count": 189,
   "metadata": {},
   "outputs": [
    {
     "name": "stdout",
     "output_type": "stream",
     "text": [
      "https://www.taaze.tw/products/11101029710.html\n",
      "https://www.taaze.tw/products/11101031111.html\n",
      "https://www.taaze.tw/products/11101029710.html\n",
      "https://www.taaze.tw/products/11101031111.html\n",
      "https://www.taaze.tw/products/11101015798.html\n"
     ]
    }
   ],
   "source": [
    "pattern = f'https://www.taaze.tw/products/'\n",
    "for url in lst_tags_url:\n",
    "    if url is not None and pattern in url:\n",
    "        print(url)"
   ]
  },
  {
   "cell_type": "code",
   "execution_count": 192,
   "metadata": {},
   "outputs": [
    {
     "name": "stdout",
     "output_type": "stream",
     "text": [
      "https://www.taaze.tw/products/11101015798.html\n"
     ]
    }
   ],
   "source": [
    "pattern = f'https://www.taaze.tw/products/'\n",
    "d_product_id = {}\n",
    "for url in lst_tags_url:\n",
    "    if url is not None and pattern in url:\n",
    "        id = url.split(pattern)[-1].split('.html')[0]\n",
    "        if id not in d_product_id.keys():\n",
    "            d_product_id[id] = 1\n",
    "        else:\n",
    "            d_product_id[id] += 1\n",
    "\n",
    "for k, v in d_product_id.items():\n",
    "    if v == 1:\n",
    "        product_id = k\n",
    "        target_url = f'{pattern}{product_id}.html'\n",
    "        break\n",
    "\n",
    "print(target_url)"
   ]
  },
  {
   "cell_type": "markdown",
   "metadata": {},
   "source": [
    "### Request to visit the main item page of the given book"
   ]
  },
  {
   "cell_type": "code",
   "execution_count": 193,
   "metadata": {},
   "outputs": [
    {
     "name": "stdout",
     "output_type": "stream",
     "text": [
      "\n",
      "Time cost:   0.505646 s\n"
     ]
    }
   ],
   "source": [
    "tStart = time.time()\n",
    "r2 = requests.get(target_url)\n",
    "soup2 = bs(r2.text, 'html.parser')\n",
    "print('\\nTime cost: %10.6f s' % (time.time() - tStart))"
   ]
  },
  {
   "cell_type": "markdown",
   "metadata": {},
   "source": [
    "#### Obtain all the texts on the visited page"
   ]
  },
  {
   "cell_type": "code",
   "execution_count": 195,
   "metadata": {},
   "outputs": [
    {
     "name": "stdout",
     "output_type": "stream",
     "text": [
      "\n",
      "Time cost:   0.005212 s\n"
     ]
    }
   ],
   "source": [
    "tStart = time.time()\n",
    "all_tags = soup2.find_all(text=True)\n",
    "lst_all_tags = []\n",
    "for tag in all_tags:\n",
    "    lst_all_tags.append(tag)\n",
    "print('\\nTime cost: %10.6f s' % (time.time() - tStart))"
   ]
  },
  {
   "cell_type": "markdown",
   "metadata": {},
   "source": [
    "#### Remove useless lines and get the book title"
   ]
  },
  {
   "cell_type": "code",
   "execution_count": 196,
   "metadata": {},
   "outputs": [
    {
     "name": "stdout",
     "output_type": "stream",
     "text": [
      "3327\n",
      "1260\n"
     ]
    }
   ],
   "source": [
    "print(len(lst_all_tags))\n",
    "for i in range(lst_all_tags.count('\\n')):\n",
    "    lst_all_tags.remove('\\n')\n",
    "print(len(lst_all_tags))"
   ]
  },
  {
   "cell_type": "code",
   "execution_count": 198,
   "metadata": {},
   "outputs": [
    {
     "data": {
      "text/plain": [
       "'慢遊法國：美景、藝術、建築、歷史的深度體驗，歐洲線領隊從自助到跟團的隨身導覽攻略- TAAZE 讀冊生活'"
      ]
     },
     "execution_count": 198,
     "metadata": {},
     "output_type": "execute_result"
    }
   ],
   "source": [
    "lst_all_tags[1]"
   ]
  },
  {
   "cell_type": "markdown",
   "metadata": {},
   "source": [
    "### Observe the info format in `lst_all_tags` and extract useful information"
   ]
  },
  {
   "cell_type": "code",
   "execution_count": 199,
   "metadata": {},
   "outputs": [],
   "source": [
    "d_info = {\n",
    "    '書名': lst_all_tags[1].replace('- TAAZE 讀冊生活', '')\n",
    "}"
   ]
  },
  {
   "cell_type": "code",
   "execution_count": 200,
   "metadata": {},
   "outputs": [],
   "source": [
    "idx_info = lst_all_tags.index('商品資料')\n",
    "idx_end = lst_all_tags.index('類別有誤？')\n",
    "i = idx_info+1\n",
    "while i < idx_end:\n",
    "    if '：' in lst_all_tags[i]:\n",
    "        k = lst_all_tags[i].replace('：', '')\n",
    "        if lst_all_tags[i] == '類別：':\n",
    "            #idx_genre = lst_all_tags.index('類別：')\n",
    "            v = ''.join(lst_all_tags[i+1:idx_end])\n",
    "        elif lst_all_tags[i] == '商品尺寸：':\n",
    "            v = ''.join(lst_all_tags[i+1:i+6])\n",
    "            i += 5\n",
    "        else:\n",
    "            v = lst_all_tags[i+1]\n",
    "        d_info[k] = v\n",
    "    i += 1\n"
   ]
  },
  {
   "cell_type": "code",
   "execution_count": 201,
   "metadata": {},
   "outputs": [
    {
     "data": {
      "text/plain": [
       "{'title': '慢遊法國：美景、藝術、建築、歷史的深度體驗，歐洲線領隊從自助到跟團的隨身導覽攻略',\n",
       " '作者': '魏宏展',\n",
       " '出版社': '台灣東販股份有限公司',\n",
       " '出版日期': '2023-08-28',\n",
       " 'ISBN/ISSN': '9786263299443',\n",
       " '語言': '繁體中文',\n",
       " '裝訂方式': '平裝',\n",
       " '頁數': '280頁',\n",
       " '商品尺寸': '長：230mm \\\\ 寬：170mm \\\\ 高：15mm',\n",
       " '高15mm': '類別：',\n",
       " '類別': '中文書>旅遊>歐洲'}"
      ]
     },
     "execution_count": 201,
     "metadata": {},
     "output_type": "execute_result"
    }
   ],
   "source": [
    "d_info"
   ]
  },
  {
   "cell_type": "markdown",
   "metadata": {},
   "source": [
    "### Save results out as a file if necessary"
   ]
  },
  {
   "cell_type": "markdown",
   "metadata": {},
   "source": [
    "#### Save dict as a json file"
   ]
  },
  {
   "cell_type": "code",
   "execution_count": 212,
   "metadata": {},
   "outputs": [],
   "source": [
    "import json\n",
    "fn = './examples/example_0.json'\n",
    "with open(fn, 'w') as f:\n",
    "    json.dump(d_info, f)"
   ]
  },
  {
   "cell_type": "markdown",
   "metadata": {},
   "source": [
    "#### Save pd.DataFrame as a csv file"
   ]
  },
  {
   "cell_type": "code",
   "execution_count": 205,
   "metadata": {},
   "outputs": [
    {
     "data": {
      "text/html": [
       "<div>\n",
       "<style scoped>\n",
       "    .dataframe tbody tr th:only-of-type {\n",
       "        vertical-align: middle;\n",
       "    }\n",
       "\n",
       "    .dataframe tbody tr th {\n",
       "        vertical-align: top;\n",
       "    }\n",
       "\n",
       "    .dataframe thead th {\n",
       "        text-align: right;\n",
       "    }\n",
       "</style>\n",
       "<table border=\"1\" class=\"dataframe\">\n",
       "  <thead>\n",
       "    <tr style=\"text-align: right;\">\n",
       "      <th></th>\n",
       "      <th>title</th>\n",
       "      <th>作者</th>\n",
       "      <th>出版社</th>\n",
       "      <th>出版日期</th>\n",
       "      <th>ISBN/ISSN</th>\n",
       "      <th>語言</th>\n",
       "      <th>裝訂方式</th>\n",
       "      <th>頁數</th>\n",
       "      <th>商品尺寸</th>\n",
       "      <th>高15mm</th>\n",
       "      <th>類別</th>\n",
       "    </tr>\n",
       "  </thead>\n",
       "  <tbody>\n",
       "    <tr>\n",
       "      <th>9786263299443</th>\n",
       "      <td>慢遊法國：美景、藝術、建築、歷史的深度體驗，歐洲線領隊從自助到跟團的隨身導覽攻略</td>\n",
       "      <td>魏宏展</td>\n",
       "      <td>台灣東販股份有限公司</td>\n",
       "      <td>2023-08-28</td>\n",
       "      <td>9786263299443</td>\n",
       "      <td>繁體中文</td>\n",
       "      <td>平裝</td>\n",
       "      <td>280頁</td>\n",
       "      <td>長：230mm \\ 寬：170mm \\ 高：15mm</td>\n",
       "      <td>類別：</td>\n",
       "      <td>中文書&gt;旅遊&gt;歐洲</td>\n",
       "    </tr>\n",
       "  </tbody>\n",
       "</table>\n",
       "</div>"
      ],
      "text/plain": [
       "                                                  title   作者         出版社  \\\n",
       "9786263299443  慢遊法國：美景、藝術、建築、歷史的深度體驗，歐洲線領隊從自助到跟團的隨身導覽攻略  魏宏展  台灣東販股份有限公司   \n",
       "\n",
       "                     出版日期      ISBN/ISSN    語言 裝訂方式    頁數  \\\n",
       "9786263299443  2023-08-28  9786263299443  繁體中文   平裝  280頁   \n",
       "\n",
       "                                     商品尺寸 高15mm         類別  \n",
       "9786263299443  長：230mm \\ 寬：170mm \\ 高：15mm   類別：  中文書>旅遊>歐洲  "
      ]
     },
     "execution_count": 205,
     "metadata": {},
     "output_type": "execute_result"
    }
   ],
   "source": [
    "df = pd.DataFrame(d_info, index=[ISBN])\n",
    "fn = './examples/example_0.csv'\n",
    "df.to_csv(fn)\n",
    "df"
   ]
  },
  {
   "cell_type": "code",
   "execution_count": null,
   "metadata": {},
   "outputs": [],
   "source": []
  }
 ],
 "metadata": {
  "kernelspec": {
   "display_name": "Python 3",
   "language": "python",
   "name": "python3"
  },
  "language_info": {
   "codemirror_mode": {
    "name": "ipython",
    "version": 3
   },
   "file_extension": ".py",
   "mimetype": "text/x-python",
   "name": "python",
   "nbconvert_exporter": "python",
   "pygments_lexer": "ipython3",
   "version": "3.10.0"
  }
 },
 "nbformat": 4,
 "nbformat_minor": 2
}
